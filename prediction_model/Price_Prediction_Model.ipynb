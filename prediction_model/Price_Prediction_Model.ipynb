{
  "metadata": {
    "kernelspec": {
      "language": "python",
      "display_name": "Python 3",
      "name": "python3"
    },
    "language_info": {
      "name": "python",
      "version": "3.10.12",
      "mimetype": "text/x-python",
      "codemirror_mode": {
        "name": "ipython",
        "version": 3
      },
      "pygments_lexer": "ipython3",
      "nbconvert_exporter": "python",
      "file_extension": ".py"
    },
    "colab": {
      "provenance": []
    }
  },
  "nbformat_minor": 0,
  "nbformat": 4,
  "cells": [
    {
      "cell_type": "markdown",
      "source": [
        "# Predicting used car price"
      ],
      "metadata": {
        "id": "onhB97uNwgEV"
      }
    },
    {
      "cell_type": "code",
      "source": [
        "from google.colab import drive\n",
        "drive.mount('/content/drive')"
      ],
      "metadata": {
        "colab": {
          "base_uri": "https://localhost:8080/"
        },
        "id": "7Q-4VynjoXxd",
        "outputId": "8172270d-f0b6-4403-c769-bcf1cf5cc3a5"
      },
      "execution_count": 66,
      "outputs": [
        {
          "output_type": "stream",
          "name": "stdout",
          "text": [
            "Drive already mounted at /content/drive; to attempt to forcibly remount, call drive.mount(\"/content/drive\", force_remount=True).\n"
          ]
        }
      ]
    },
    {
      "cell_type": "code",
      "source": [
        "import pandas as pd"
      ],
      "metadata": {
        "execution": {
          "iopub.status.busy": "2023-11-08T06:16:23.645621Z",
          "iopub.execute_input": "2023-11-08T06:16:23.646329Z",
          "iopub.status.idle": "2023-11-08T06:16:23.651728Z",
          "shell.execute_reply.started": "2023-11-08T06:16:23.646289Z",
          "shell.execute_reply": "2023-11-08T06:16:23.650384Z"
        },
        "trusted": true,
        "id": "Lih2sI1FDqkM"
      },
      "execution_count": 67,
      "outputs": []
    },
    {
      "cell_type": "code",
      "source": [
        "used_car_data = pd.read_csv('/content/drive/MyDrive/pakwheels_scrapped/pakwheels_used_car_data_v02.csv')"
      ],
      "metadata": {
        "id": "fe8PCYcgeLqf",
        "execution": {
          "iopub.status.busy": "2023-11-08T06:16:25.109416Z",
          "iopub.execute_input": "2023-11-08T06:16:25.109844Z",
          "iopub.status.idle": "2023-11-08T06:16:25.357950Z",
          "shell.execute_reply.started": "2023-11-08T06:16:25.109812Z",
          "shell.execute_reply": "2023-11-08T06:16:25.356930Z"
        },
        "trusted": true
      },
      "execution_count": 68,
      "outputs": []
    },
    {
      "cell_type": "markdown",
      "source": [
        "## Have a look at metadata"
      ],
      "metadata": {
        "id": "vMg3fJLHwgEV"
      }
    },
    {
      "cell_type": "code",
      "source": [
        "used_car_data.describe(include='all')"
      ],
      "metadata": {
        "id": "AvJpVlJlwgEV",
        "outputId": "76fddf45-7249-4f08-efd1-7b092888bd3c",
        "execution": {
          "iopub.status.busy": "2023-11-08T06:17:12.843591Z",
          "iopub.execute_input": "2023-11-08T06:17:12.843999Z",
          "iopub.status.idle": "2023-11-08T06:17:13.184406Z",
          "shell.execute_reply.started": "2023-11-08T06:17:12.843967Z",
          "shell.execute_reply": "2023-11-08T06:17:13.183256Z"
        },
        "trusted": true,
        "colab": {
          "base_uri": "https://localhost:8080/",
          "height": 394
        }
      },
      "execution_count": 69,
      "outputs": [
        {
          "output_type": "execute_result",
          "data": {
            "text/plain": [
              "              addref    city  assembly   body    make    model          year  \\\n",
              "count   7.787800e+04   77878     24189  68974   77878    77878  73099.000000   \n",
              "unique           NaN     297         1     21      68      435           NaN   \n",
              "top              NaN  Lahore  Imported  Sedan  Toyota  Corolla           NaN   \n",
              "freq             NaN   16674     24189  30193   24910    12871           NaN   \n",
              "mean    7.809878e+06     NaN       NaN    NaN     NaN      NaN   2012.812610   \n",
              "std     2.599523e+05     NaN       NaN    NaN     NaN      NaN      7.516685   \n",
              "min     2.748970e+05     NaN       NaN    NaN     NaN      NaN   1990.000000   \n",
              "25%     7.805760e+06     NaN       NaN    NaN     NaN      NaN   2007.000000   \n",
              "50%     7.865805e+06     NaN       NaN    NaN     NaN      NaN   2015.000000   \n",
              "75%     7.910334e+06     NaN       NaN    NaN     NaN      NaN   2019.000000   \n",
              "max     7.943741e+06     NaN       NaN    NaN     NaN      NaN   2022.000000   \n",
              "\n",
              "              engine transmission    fuel  color registered         mileage  \\\n",
              "count   77875.000000        77878   76972  76398      77878    77878.000000   \n",
              "unique           NaN            2       3    396        121             NaN   \n",
              "top              NaN    Automatic  Petrol  White  Islamabad             NaN   \n",
              "freq             NaN        42763   70620  21444      18942             NaN   \n",
              "mean     1408.072550          NaN     NaN    NaN        NaN    91109.192750   \n",
              "std       704.459947          NaN     NaN    NaN        NaN    89275.336173   \n",
              "min         3.000000          NaN     NaN    NaN        NaN        1.000000   \n",
              "25%      1000.000000          NaN     NaN    NaN        NaN    34000.000000   \n",
              "50%      1300.000000          NaN     NaN    NaN        NaN    80000.000000   \n",
              "75%      1600.000000          NaN     NaN    NaN        NaN   123456.000000   \n",
              "max     15000.000000          NaN     NaN    NaN        NaN  1000000.000000   \n",
              "\n",
              "               price  \n",
              "count   7.729500e+04  \n",
              "unique           NaN  \n",
              "top              NaN  \n",
              "freq             NaN  \n",
              "mean    3.883232e+06  \n",
              "std     5.759480e+06  \n",
              "min     1.100000e+05  \n",
              "25%     1.450000e+06  \n",
              "50%     2.700000e+06  \n",
              "75%     4.500000e+06  \n",
              "max     5.290000e+08  "
            ],
            "text/html": [
              "\n",
              "  <div id=\"df-9ca513cd-46c2-4a8e-94ce-4e79baf6ca13\" class=\"colab-df-container\">\n",
              "    <div>\n",
              "<style scoped>\n",
              "    .dataframe tbody tr th:only-of-type {\n",
              "        vertical-align: middle;\n",
              "    }\n",
              "\n",
              "    .dataframe tbody tr th {\n",
              "        vertical-align: top;\n",
              "    }\n",
              "\n",
              "    .dataframe thead th {\n",
              "        text-align: right;\n",
              "    }\n",
              "</style>\n",
              "<table border=\"1\" class=\"dataframe\">\n",
              "  <thead>\n",
              "    <tr style=\"text-align: right;\">\n",
              "      <th></th>\n",
              "      <th>addref</th>\n",
              "      <th>city</th>\n",
              "      <th>assembly</th>\n",
              "      <th>body</th>\n",
              "      <th>make</th>\n",
              "      <th>model</th>\n",
              "      <th>year</th>\n",
              "      <th>engine</th>\n",
              "      <th>transmission</th>\n",
              "      <th>fuel</th>\n",
              "      <th>color</th>\n",
              "      <th>registered</th>\n",
              "      <th>mileage</th>\n",
              "      <th>price</th>\n",
              "    </tr>\n",
              "  </thead>\n",
              "  <tbody>\n",
              "    <tr>\n",
              "      <th>count</th>\n",
              "      <td>7.787800e+04</td>\n",
              "      <td>77878</td>\n",
              "      <td>24189</td>\n",
              "      <td>68974</td>\n",
              "      <td>77878</td>\n",
              "      <td>77878</td>\n",
              "      <td>73099.000000</td>\n",
              "      <td>77875.000000</td>\n",
              "      <td>77878</td>\n",
              "      <td>76972</td>\n",
              "      <td>76398</td>\n",
              "      <td>77878</td>\n",
              "      <td>77878.000000</td>\n",
              "      <td>7.729500e+04</td>\n",
              "    </tr>\n",
              "    <tr>\n",
              "      <th>unique</th>\n",
              "      <td>NaN</td>\n",
              "      <td>297</td>\n",
              "      <td>1</td>\n",
              "      <td>21</td>\n",
              "      <td>68</td>\n",
              "      <td>435</td>\n",
              "      <td>NaN</td>\n",
              "      <td>NaN</td>\n",
              "      <td>2</td>\n",
              "      <td>3</td>\n",
              "      <td>396</td>\n",
              "      <td>121</td>\n",
              "      <td>NaN</td>\n",
              "      <td>NaN</td>\n",
              "    </tr>\n",
              "    <tr>\n",
              "      <th>top</th>\n",
              "      <td>NaN</td>\n",
              "      <td>Lahore</td>\n",
              "      <td>Imported</td>\n",
              "      <td>Sedan</td>\n",
              "      <td>Toyota</td>\n",
              "      <td>Corolla</td>\n",
              "      <td>NaN</td>\n",
              "      <td>NaN</td>\n",
              "      <td>Automatic</td>\n",
              "      <td>Petrol</td>\n",
              "      <td>White</td>\n",
              "      <td>Islamabad</td>\n",
              "      <td>NaN</td>\n",
              "      <td>NaN</td>\n",
              "    </tr>\n",
              "    <tr>\n",
              "      <th>freq</th>\n",
              "      <td>NaN</td>\n",
              "      <td>16674</td>\n",
              "      <td>24189</td>\n",
              "      <td>30193</td>\n",
              "      <td>24910</td>\n",
              "      <td>12871</td>\n",
              "      <td>NaN</td>\n",
              "      <td>NaN</td>\n",
              "      <td>42763</td>\n",
              "      <td>70620</td>\n",
              "      <td>21444</td>\n",
              "      <td>18942</td>\n",
              "      <td>NaN</td>\n",
              "      <td>NaN</td>\n",
              "    </tr>\n",
              "    <tr>\n",
              "      <th>mean</th>\n",
              "      <td>7.809878e+06</td>\n",
              "      <td>NaN</td>\n",
              "      <td>NaN</td>\n",
              "      <td>NaN</td>\n",
              "      <td>NaN</td>\n",
              "      <td>NaN</td>\n",
              "      <td>2012.812610</td>\n",
              "      <td>1408.072550</td>\n",
              "      <td>NaN</td>\n",
              "      <td>NaN</td>\n",
              "      <td>NaN</td>\n",
              "      <td>NaN</td>\n",
              "      <td>91109.192750</td>\n",
              "      <td>3.883232e+06</td>\n",
              "    </tr>\n",
              "    <tr>\n",
              "      <th>std</th>\n",
              "      <td>2.599523e+05</td>\n",
              "      <td>NaN</td>\n",
              "      <td>NaN</td>\n",
              "      <td>NaN</td>\n",
              "      <td>NaN</td>\n",
              "      <td>NaN</td>\n",
              "      <td>7.516685</td>\n",
              "      <td>704.459947</td>\n",
              "      <td>NaN</td>\n",
              "      <td>NaN</td>\n",
              "      <td>NaN</td>\n",
              "      <td>NaN</td>\n",
              "      <td>89275.336173</td>\n",
              "      <td>5.759480e+06</td>\n",
              "    </tr>\n",
              "    <tr>\n",
              "      <th>min</th>\n",
              "      <td>2.748970e+05</td>\n",
              "      <td>NaN</td>\n",
              "      <td>NaN</td>\n",
              "      <td>NaN</td>\n",
              "      <td>NaN</td>\n",
              "      <td>NaN</td>\n",
              "      <td>1990.000000</td>\n",
              "      <td>3.000000</td>\n",
              "      <td>NaN</td>\n",
              "      <td>NaN</td>\n",
              "      <td>NaN</td>\n",
              "      <td>NaN</td>\n",
              "      <td>1.000000</td>\n",
              "      <td>1.100000e+05</td>\n",
              "    </tr>\n",
              "    <tr>\n",
              "      <th>25%</th>\n",
              "      <td>7.805760e+06</td>\n",
              "      <td>NaN</td>\n",
              "      <td>NaN</td>\n",
              "      <td>NaN</td>\n",
              "      <td>NaN</td>\n",
              "      <td>NaN</td>\n",
              "      <td>2007.000000</td>\n",
              "      <td>1000.000000</td>\n",
              "      <td>NaN</td>\n",
              "      <td>NaN</td>\n",
              "      <td>NaN</td>\n",
              "      <td>NaN</td>\n",
              "      <td>34000.000000</td>\n",
              "      <td>1.450000e+06</td>\n",
              "    </tr>\n",
              "    <tr>\n",
              "      <th>50%</th>\n",
              "      <td>7.865805e+06</td>\n",
              "      <td>NaN</td>\n",
              "      <td>NaN</td>\n",
              "      <td>NaN</td>\n",
              "      <td>NaN</td>\n",
              "      <td>NaN</td>\n",
              "      <td>2015.000000</td>\n",
              "      <td>1300.000000</td>\n",
              "      <td>NaN</td>\n",
              "      <td>NaN</td>\n",
              "      <td>NaN</td>\n",
              "      <td>NaN</td>\n",
              "      <td>80000.000000</td>\n",
              "      <td>2.700000e+06</td>\n",
              "    </tr>\n",
              "    <tr>\n",
              "      <th>75%</th>\n",
              "      <td>7.910334e+06</td>\n",
              "      <td>NaN</td>\n",
              "      <td>NaN</td>\n",
              "      <td>NaN</td>\n",
              "      <td>NaN</td>\n",
              "      <td>NaN</td>\n",
              "      <td>2019.000000</td>\n",
              "      <td>1600.000000</td>\n",
              "      <td>NaN</td>\n",
              "      <td>NaN</td>\n",
              "      <td>NaN</td>\n",
              "      <td>NaN</td>\n",
              "      <td>123456.000000</td>\n",
              "      <td>4.500000e+06</td>\n",
              "    </tr>\n",
              "    <tr>\n",
              "      <th>max</th>\n",
              "      <td>7.943741e+06</td>\n",
              "      <td>NaN</td>\n",
              "      <td>NaN</td>\n",
              "      <td>NaN</td>\n",
              "      <td>NaN</td>\n",
              "      <td>NaN</td>\n",
              "      <td>2022.000000</td>\n",
              "      <td>15000.000000</td>\n",
              "      <td>NaN</td>\n",
              "      <td>NaN</td>\n",
              "      <td>NaN</td>\n",
              "      <td>NaN</td>\n",
              "      <td>1000000.000000</td>\n",
              "      <td>5.290000e+08</td>\n",
              "    </tr>\n",
              "  </tbody>\n",
              "</table>\n",
              "</div>\n",
              "    <div class=\"colab-df-buttons\">\n",
              "\n",
              "  <div class=\"colab-df-container\">\n",
              "    <button class=\"colab-df-convert\" onclick=\"convertToInteractive('df-9ca513cd-46c2-4a8e-94ce-4e79baf6ca13')\"\n",
              "            title=\"Convert this dataframe to an interactive table.\"\n",
              "            style=\"display:none;\">\n",
              "\n",
              "  <svg xmlns=\"http://www.w3.org/2000/svg\" height=\"24px\" viewBox=\"0 -960 960 960\">\n",
              "    <path d=\"M120-120v-720h720v720H120Zm60-500h600v-160H180v160Zm220 220h160v-160H400v160Zm0 220h160v-160H400v160ZM180-400h160v-160H180v160Zm440 0h160v-160H620v160ZM180-180h160v-160H180v160Zm440 0h160v-160H620v160Z\"/>\n",
              "  </svg>\n",
              "    </button>\n",
              "\n",
              "  <style>\n",
              "    .colab-df-container {\n",
              "      display:flex;\n",
              "      gap: 12px;\n",
              "    }\n",
              "\n",
              "    .colab-df-convert {\n",
              "      background-color: #E8F0FE;\n",
              "      border: none;\n",
              "      border-radius: 50%;\n",
              "      cursor: pointer;\n",
              "      display: none;\n",
              "      fill: #1967D2;\n",
              "      height: 32px;\n",
              "      padding: 0 0 0 0;\n",
              "      width: 32px;\n",
              "    }\n",
              "\n",
              "    .colab-df-convert:hover {\n",
              "      background-color: #E2EBFA;\n",
              "      box-shadow: 0px 1px 2px rgba(60, 64, 67, 0.3), 0px 1px 3px 1px rgba(60, 64, 67, 0.15);\n",
              "      fill: #174EA6;\n",
              "    }\n",
              "\n",
              "    .colab-df-buttons div {\n",
              "      margin-bottom: 4px;\n",
              "    }\n",
              "\n",
              "    [theme=dark] .colab-df-convert {\n",
              "      background-color: #3B4455;\n",
              "      fill: #D2E3FC;\n",
              "    }\n",
              "\n",
              "    [theme=dark] .colab-df-convert:hover {\n",
              "      background-color: #434B5C;\n",
              "      box-shadow: 0px 1px 3px 1px rgba(0, 0, 0, 0.15);\n",
              "      filter: drop-shadow(0px 1px 2px rgba(0, 0, 0, 0.3));\n",
              "      fill: #FFFFFF;\n",
              "    }\n",
              "  </style>\n",
              "\n",
              "    <script>\n",
              "      const buttonEl =\n",
              "        document.querySelector('#df-9ca513cd-46c2-4a8e-94ce-4e79baf6ca13 button.colab-df-convert');\n",
              "      buttonEl.style.display =\n",
              "        google.colab.kernel.accessAllowed ? 'block' : 'none';\n",
              "\n",
              "      async function convertToInteractive(key) {\n",
              "        const element = document.querySelector('#df-9ca513cd-46c2-4a8e-94ce-4e79baf6ca13');\n",
              "        const dataTable =\n",
              "          await google.colab.kernel.invokeFunction('convertToInteractive',\n",
              "                                                    [key], {});\n",
              "        if (!dataTable) return;\n",
              "\n",
              "        const docLinkHtml = 'Like what you see? Visit the ' +\n",
              "          '<a target=\"_blank\" href=https://colab.research.google.com/notebooks/data_table.ipynb>data table notebook</a>'\n",
              "          + ' to learn more about interactive tables.';\n",
              "        element.innerHTML = '';\n",
              "        dataTable['output_type'] = 'display_data';\n",
              "        await google.colab.output.renderOutput(dataTable, element);\n",
              "        const docLink = document.createElement('div');\n",
              "        docLink.innerHTML = docLinkHtml;\n",
              "        element.appendChild(docLink);\n",
              "      }\n",
              "    </script>\n",
              "  </div>\n",
              "\n",
              "\n",
              "<div id=\"df-ea5a22c9-2257-4b9c-a507-fb3c046d8984\">\n",
              "  <button class=\"colab-df-quickchart\" onclick=\"quickchart('df-ea5a22c9-2257-4b9c-a507-fb3c046d8984')\"\n",
              "            title=\"Suggest charts\"\n",
              "            style=\"display:none;\">\n",
              "\n",
              "<svg xmlns=\"http://www.w3.org/2000/svg\" height=\"24px\"viewBox=\"0 0 24 24\"\n",
              "     width=\"24px\">\n",
              "    <g>\n",
              "        <path d=\"M19 3H5c-1.1 0-2 .9-2 2v14c0 1.1.9 2 2 2h14c1.1 0 2-.9 2-2V5c0-1.1-.9-2-2-2zM9 17H7v-7h2v7zm4 0h-2V7h2v10zm4 0h-2v-4h2v4z\"/>\n",
              "    </g>\n",
              "</svg>\n",
              "  </button>\n",
              "\n",
              "<style>\n",
              "  .colab-df-quickchart {\n",
              "      --bg-color: #E8F0FE;\n",
              "      --fill-color: #1967D2;\n",
              "      --hover-bg-color: #E2EBFA;\n",
              "      --hover-fill-color: #174EA6;\n",
              "      --disabled-fill-color: #AAA;\n",
              "      --disabled-bg-color: #DDD;\n",
              "  }\n",
              "\n",
              "  [theme=dark] .colab-df-quickchart {\n",
              "      --bg-color: #3B4455;\n",
              "      --fill-color: #D2E3FC;\n",
              "      --hover-bg-color: #434B5C;\n",
              "      --hover-fill-color: #FFFFFF;\n",
              "      --disabled-bg-color: #3B4455;\n",
              "      --disabled-fill-color: #666;\n",
              "  }\n",
              "\n",
              "  .colab-df-quickchart {\n",
              "    background-color: var(--bg-color);\n",
              "    border: none;\n",
              "    border-radius: 50%;\n",
              "    cursor: pointer;\n",
              "    display: none;\n",
              "    fill: var(--fill-color);\n",
              "    height: 32px;\n",
              "    padding: 0;\n",
              "    width: 32px;\n",
              "  }\n",
              "\n",
              "  .colab-df-quickchart:hover {\n",
              "    background-color: var(--hover-bg-color);\n",
              "    box-shadow: 0 1px 2px rgba(60, 64, 67, 0.3), 0 1px 3px 1px rgba(60, 64, 67, 0.15);\n",
              "    fill: var(--button-hover-fill-color);\n",
              "  }\n",
              "\n",
              "  .colab-df-quickchart-complete:disabled,\n",
              "  .colab-df-quickchart-complete:disabled:hover {\n",
              "    background-color: var(--disabled-bg-color);\n",
              "    fill: var(--disabled-fill-color);\n",
              "    box-shadow: none;\n",
              "  }\n",
              "\n",
              "  .colab-df-spinner {\n",
              "    border: 2px solid var(--fill-color);\n",
              "    border-color: transparent;\n",
              "    border-bottom-color: var(--fill-color);\n",
              "    animation:\n",
              "      spin 1s steps(1) infinite;\n",
              "  }\n",
              "\n",
              "  @keyframes spin {\n",
              "    0% {\n",
              "      border-color: transparent;\n",
              "      border-bottom-color: var(--fill-color);\n",
              "      border-left-color: var(--fill-color);\n",
              "    }\n",
              "    20% {\n",
              "      border-color: transparent;\n",
              "      border-left-color: var(--fill-color);\n",
              "      border-top-color: var(--fill-color);\n",
              "    }\n",
              "    30% {\n",
              "      border-color: transparent;\n",
              "      border-left-color: var(--fill-color);\n",
              "      border-top-color: var(--fill-color);\n",
              "      border-right-color: var(--fill-color);\n",
              "    }\n",
              "    40% {\n",
              "      border-color: transparent;\n",
              "      border-right-color: var(--fill-color);\n",
              "      border-top-color: var(--fill-color);\n",
              "    }\n",
              "    60% {\n",
              "      border-color: transparent;\n",
              "      border-right-color: var(--fill-color);\n",
              "    }\n",
              "    80% {\n",
              "      border-color: transparent;\n",
              "      border-right-color: var(--fill-color);\n",
              "      border-bottom-color: var(--fill-color);\n",
              "    }\n",
              "    90% {\n",
              "      border-color: transparent;\n",
              "      border-bottom-color: var(--fill-color);\n",
              "    }\n",
              "  }\n",
              "</style>\n",
              "\n",
              "  <script>\n",
              "    async function quickchart(key) {\n",
              "      const quickchartButtonEl =\n",
              "        document.querySelector('#' + key + ' button');\n",
              "      quickchartButtonEl.disabled = true;  // To prevent multiple clicks.\n",
              "      quickchartButtonEl.classList.add('colab-df-spinner');\n",
              "      try {\n",
              "        const charts = await google.colab.kernel.invokeFunction(\n",
              "            'suggestCharts', [key], {});\n",
              "      } catch (error) {\n",
              "        console.error('Error during call to suggestCharts:', error);\n",
              "      }\n",
              "      quickchartButtonEl.classList.remove('colab-df-spinner');\n",
              "      quickchartButtonEl.classList.add('colab-df-quickchart-complete');\n",
              "    }\n",
              "    (() => {\n",
              "      let quickchartButtonEl =\n",
              "        document.querySelector('#df-ea5a22c9-2257-4b9c-a507-fb3c046d8984 button');\n",
              "      quickchartButtonEl.style.display =\n",
              "        google.colab.kernel.accessAllowed ? 'block' : 'none';\n",
              "    })();\n",
              "  </script>\n",
              "</div>\n",
              "    </div>\n",
              "  </div>\n"
            ]
          },
          "metadata": {},
          "execution_count": 69
        }
      ]
    },
    {
      "cell_type": "markdown",
      "source": [
        "## Do we have missing values"
      ],
      "metadata": {
        "id": "2QzSQXRwwgEV"
      }
    },
    {
      "cell_type": "code",
      "source": [
        "used_car_data.isna().sum()"
      ],
      "metadata": {
        "id": "VhU913mOwgEV",
        "outputId": "8e2588f1-dae8-40d6-9608-51b089b5f373",
        "execution": {
          "iopub.status.busy": "2023-11-08T06:17:18.723072Z",
          "iopub.execute_input": "2023-11-08T06:17:18.723455Z",
          "iopub.status.idle": "2023-11-08T06:17:18.801763Z",
          "shell.execute_reply.started": "2023-11-08T06:17:18.723424Z",
          "shell.execute_reply": "2023-11-08T06:17:18.800548Z"
        },
        "trusted": true,
        "colab": {
          "base_uri": "https://localhost:8080/"
        }
      },
      "execution_count": 70,
      "outputs": [
        {
          "output_type": "execute_result",
          "data": {
            "text/plain": [
              "addref              0\n",
              "city                0\n",
              "assembly        53689\n",
              "body             8904\n",
              "make                0\n",
              "model               0\n",
              "year             4779\n",
              "engine              3\n",
              "transmission        0\n",
              "fuel              906\n",
              "color            1480\n",
              "registered          0\n",
              "mileage             0\n",
              "price             583\n",
              "dtype: int64"
            ]
          },
          "metadata": {},
          "execution_count": 70
        }
      ]
    },
    {
      "cell_type": "code",
      "source": [
        "used_car_data['assembly'] = used_car_data['assembly'].fillna('Local')\n",
        "assert used_car_data['assembly'].isna().sum() == 0"
      ],
      "metadata": {
        "id": "L_pDeENtf6-c",
        "execution": {
          "iopub.status.busy": "2023-11-08T06:17:21.642923Z",
          "iopub.execute_input": "2023-11-08T06:17:21.643972Z",
          "iopub.status.idle": "2023-11-08T06:17:21.666161Z",
          "shell.execute_reply.started": "2023-11-08T06:17:21.643932Z",
          "shell.execute_reply": "2023-11-08T06:17:21.665047Z"
        },
        "trusted": true
      },
      "execution_count": 71,
      "outputs": []
    },
    {
      "cell_type": "code",
      "source": [
        "used_car_data[used_car_data['body'].isna()]['model'].value_counts().head(80)"
      ],
      "metadata": {
        "id": "CEhDn_ARi1Lu",
        "outputId": "334221de-ac26-47ca-ce72-4c86c7ede9c3",
        "execution": {
          "iopub.status.busy": "2023-11-08T06:17:24.319861Z",
          "iopub.execute_input": "2023-11-08T06:17:24.320251Z",
          "iopub.status.idle": "2023-11-08T06:17:24.344660Z",
          "shell.execute_reply.started": "2023-11-08T06:17:24.320219Z",
          "shell.execute_reply": "2023-11-08T06:17:24.343327Z"
        },
        "trusted": true,
        "colab": {
          "base_uri": "https://localhost:8080/"
        }
      },
      "execution_count": 72,
      "outputs": [
        {
          "output_type": "execute_result",
          "data": {
            "text/plain": [
              "Corolla    714\n",
              "Civic      399\n",
              "Alto       307\n",
              "Prius      243\n",
              "Land       240\n",
              "          ... \n",
              "Acty        20\n",
              "Rav4        20\n",
              "Pearl       19\n",
              "Town        19\n",
              "Patrol      18\n",
              "Name: model, Length: 80, dtype: int64"
            ]
          },
          "metadata": {},
          "execution_count": 72
        }
      ]
    },
    {
      "cell_type": "code",
      "source": [
        "model_list = pd.DataFrame(used_car_data[used_car_data['body'].isna()]['model'].value_counts().head(50)).index\n",
        "print('No of missing values before replacing', used_car_data['body'].isna().sum())\n",
        "model_body = {}\n",
        "for model in model_list:\n",
        "    model_body[model] = used_car_data[used_car_data['model']==model]['body'].value_counts().idxmax()\n",
        "used_car_data['body'] = used_car_data['body'].fillna(used_car_data['model'].map(model_body))\n",
        "print('No of missing values after replacing', used_car_data['body'].isna().sum())"
      ],
      "metadata": {
        "id": "PPXEQB2bhbz8",
        "outputId": "001a0ca1-9a0c-40f9-b361-4a55d4f15b89",
        "execution": {
          "iopub.status.busy": "2023-11-08T06:17:28.770948Z",
          "iopub.execute_input": "2023-11-08T06:17:28.771368Z",
          "iopub.status.idle": "2023-11-08T06:17:29.613000Z",
          "shell.execute_reply.started": "2023-11-08T06:17:28.771332Z",
          "shell.execute_reply": "2023-11-08T06:17:29.611712Z"
        },
        "trusted": true,
        "colab": {
          "base_uri": "https://localhost:8080/"
        }
      },
      "execution_count": 73,
      "outputs": [
        {
          "output_type": "stream",
          "name": "stdout",
          "text": [
            "No of missing values before replacing 8904\n",
            "No of missing values after replacing 2197\n"
          ]
        }
      ]
    },
    {
      "cell_type": "markdown",
      "source": [],
      "metadata": {
        "id": "9mXkhswep9Jc"
      }
    },
    {
      "cell_type": "markdown",
      "source": [
        "## Is it missing at random?"
      ],
      "metadata": {
        "id": "IZhdICGRfcp-"
      }
    },
    {
      "cell_type": "code",
      "source": [
        "import seaborn as sns\n",
        "import matplotlib.pyplot as plt"
      ],
      "metadata": {
        "execution": {
          "iopub.status.busy": "2023-11-08T06:22:29.889972Z",
          "iopub.execute_input": "2023-11-08T06:22:29.890386Z",
          "iopub.status.idle": "2023-11-08T06:22:30.710547Z",
          "shell.execute_reply.started": "2023-11-08T06:22:29.890352Z",
          "shell.execute_reply": "2023-11-08T06:22:30.709482Z"
        },
        "trusted": true,
        "id": "pCnmTEYTDqkR"
      },
      "execution_count": 74,
      "outputs": []
    },
    {
      "cell_type": "code",
      "source": [
        "plt.figure(figsize=(10, 6))\n",
        "sns.heatmap(used_car_data.isnull(), cbar=False, cmap='viridis')\n",
        "plt.title('Missing Data Heatmap')\n",
        "plt.show()"
      ],
      "metadata": {
        "id": "3zGO7BllfcGV",
        "outputId": "0abafc18-444c-45d5-caed-ee521c331291",
        "execution": {
          "iopub.status.busy": "2023-11-08T06:22:32.308227Z",
          "iopub.execute_input": "2023-11-08T06:22:32.308677Z",
          "iopub.status.idle": "2023-11-08T06:22:34.090207Z",
          "shell.execute_reply.started": "2023-11-08T06:22:32.308638Z",
          "shell.execute_reply": "2023-11-08T06:22:34.088924Z"
        },
        "trusted": true,
        "colab": {
          "base_uri": "https://localhost:8080/",
          "height": 619
        }
      },
      "execution_count": 75,
      "outputs": [
        {
          "output_type": "display_data",
          "data": {
            "text/plain": [
              "<Figure size 1000x600 with 1 Axes>"
            ],
            "image/png": "[encoded data removed]"
          },
          "metadata": {}
        }
      ]
    },
    {
      "cell_type": "markdown",
      "source": [
        "#### The plot shows that the data is missing at random so let work on these"
      ],
      "metadata": {
        "id": "yvnya5qdgC9K"
      }
    },
    {
      "cell_type": "code",
      "source": [
        "round(used_car_data[(~used_car_data.isnull())].drop(columns=['body']).isnull().any(axis=1).sum()/used_car_data.shape[0]*100,2)"
      ],
      "metadata": {
        "id": "umLJPVzigke7",
        "outputId": "6eebe726-8d10-4f5b-ed4e-92636091c9b4",
        "execution": {
          "iopub.status.busy": "2023-11-08T06:27:13.261885Z",
          "iopub.execute_input": "2023-11-08T06:27:13.262327Z",
          "iopub.status.idle": "2023-11-08T06:27:13.432101Z",
          "shell.execute_reply.started": "2023-11-08T06:27:13.262293Z",
          "shell.execute_reply": "2023-11-08T06:27:13.430848Z"
        },
        "trusted": true,
        "colab": {
          "base_uri": "https://localhost:8080/"
        }
      },
      "execution_count": 76,
      "outputs": [
        {
          "output_type": "execute_result",
          "data": {
            "text/plain": [
              "9.37"
            ]
          },
          "metadata": {},
          "execution_count": 76
        }
      ]
    },
    {
      "cell_type": "markdown",
      "source": [
        "### we are going to lose approx 9.37% data if we drop rows having missing values"
      ],
      "metadata": {
        "id": "pFNE_IOgkpeH"
      }
    },
    {
      "cell_type": "markdown",
      "source": [
        "## Drop rows having missing data points"
      ],
      "metadata": {
        "id": "dtbP9lDOdMmR"
      }
    },
    {
      "cell_type": "code",
      "source": [
        "used_car_data = used_car_data.dropna()"
      ],
      "metadata": {
        "id": "qawo1dk3kubU",
        "execution": {
          "iopub.status.busy": "2023-11-08T06:28:11.074899Z",
          "iopub.execute_input": "2023-11-08T06:28:11.075349Z",
          "iopub.status.idle": "2023-11-08T06:28:11.167954Z",
          "shell.execute_reply.started": "2023-11-08T06:28:11.075310Z",
          "shell.execute_reply": "2023-11-08T06:28:11.166842Z"
        },
        "trusted": true
      },
      "execution_count": 77,
      "outputs": []
    },
    {
      "cell_type": "code",
      "source": [
        "used_car_data.shape"
      ],
      "metadata": {
        "id": "zxGBGA0D9fMp",
        "outputId": "6ba24aa6-ac67-4212-f619-9ed17e90851a",
        "execution": {
          "iopub.status.busy": "2023-11-08T06:28:13.589074Z",
          "iopub.execute_input": "2023-11-08T06:28:13.589834Z",
          "iopub.status.idle": "2023-11-08T06:28:13.595956Z",
          "shell.execute_reply.started": "2023-11-08T06:28:13.589796Z",
          "shell.execute_reply": "2023-11-08T06:28:13.595125Z"
        },
        "trusted": true,
        "colab": {
          "base_uri": "https://localhost:8080/"
        }
      },
      "execution_count": 78,
      "outputs": [
        {
          "output_type": "execute_result",
          "data": {
            "text/plain": [
              "(68756, 14)"
            ]
          },
          "metadata": {},
          "execution_count": 78
        }
      ]
    },
    {
      "cell_type": "markdown",
      "source": [
        "### feature engineering"
      ],
      "metadata": {
        "id": "ljQF-S8888s5"
      }
    },
    {
      "cell_type": "code",
      "source": [
        "color = [\"white\", \"black\", \"gray\", \"grey\", \"silver\", \"red\", \"blue\", \"green\", \"brown\", \"yellow\", \"orange\", \"gold\", \"beige\", \"bronze\", \"titanium\", \"maroon\"]\n",
        "def color_change(color_row):\n",
        "    for col in color:\n",
        "        if col in color_row.lower():\n",
        "            return col.capitalize()\n",
        "    return color_row.capitalize()\n",
        "used_car_data['color'] = used_car_data['color'].apply(lambda x: color_change(x))\n",
        "used_car_data['color'] = used_car_data['color'].replace(['Night blacl', 'Timeless back', 'Galaxy balck'], 'Black')\n",
        "used_car_data['color'] = used_car_data['color'].replace(['Gray', 'Gun metallic'], 'Grey')\n",
        "used_car_data['color'] = used_car_data['color'].replace('Rio tomato', 'Red')\n",
        "used_car_data['color'] = used_car_data['color'].replace('Yellow', 'Gold')\n",
        "used_car_data['color'] = used_car_data['color'].replace(['Alpine whire', 'Whitw', 'Precious wite pearl', 'Moonstone metallic'], 'White')\n",
        "used_car_data['color'].nunique()\n"
      ],
      "metadata": {
        "id": "Db2fpQTRhKvP",
        "outputId": "5a55b470-6daa-4e3c-f5e0-8513617f328c",
        "execution": {
          "iopub.status.busy": "2023-11-08T06:28:38.742175Z",
          "iopub.execute_input": "2023-11-08T06:28:38.742593Z",
          "iopub.status.idle": "2023-11-08T06:28:38.958210Z",
          "shell.execute_reply.started": "2023-11-08T06:28:38.742527Z",
          "shell.execute_reply": "2023-11-08T06:28:38.957091Z"
        },
        "trusted": true,
        "colab": {
          "base_uri": "https://localhost:8080/"
        }
      },
      "execution_count": 79,
      "outputs": [
        {
          "output_type": "execute_result",
          "data": {
            "text/plain": [
              "45"
            ]
          },
          "metadata": {},
          "execution_count": 79
        }
      ]
    },
    {
      "cell_type": "markdown",
      "source": [
        "## Removing outliers and unimportant features"
      ],
      "metadata": {
        "id": "ajPgg6tArvle"
      }
    },
    {
      "cell_type": "code",
      "source": [
        "ambigous_index = list(used_car_data[(used_car_data['mileage']<10000)&(used_car_data['year']<2000)].index)\n",
        "ind = list(used_car_data[(used_car_data['engine']<600)|(used_car_data['engine']>6600)].index)\n",
        "ambigous_index = ambigous_index + ind + [17405, 46696, 210, 2113, 197, 1649, 646, 4071, 56430]"
      ],
      "metadata": {
        "id": "NkdTANSwfKqg",
        "execution": {
          "iopub.status.busy": "2023-11-08T06:28:54.673623Z",
          "iopub.execute_input": "2023-11-08T06:28:54.674005Z",
          "iopub.status.idle": "2023-11-08T06:28:54.685034Z",
          "shell.execute_reply.started": "2023-11-08T06:28:54.673974Z",
          "shell.execute_reply": "2023-11-08T06:28:54.684014Z"
        },
        "trusted": true
      },
      "execution_count": 80,
      "outputs": []
    },
    {
      "cell_type": "code",
      "source": [
        "import numpy as np"
      ],
      "metadata": {
        "execution": {
          "iopub.status.busy": "2023-11-08T06:29:12.734040Z",
          "iopub.execute_input": "2023-11-08T06:29:12.734453Z",
          "iopub.status.idle": "2023-11-08T06:29:12.740218Z",
          "shell.execute_reply.started": "2023-11-08T06:29:12.734419Z",
          "shell.execute_reply": "2023-11-08T06:29:12.738759Z"
        },
        "trusted": true,
        "id": "EecG4_JhDqkT"
      },
      "execution_count": 81,
      "outputs": []
    },
    {
      "cell_type": "code",
      "source": [
        "ambigous_index = np.array(ambigous_index).ravel().reshape(552,)\n",
        "ambigous_index.shape"
      ],
      "metadata": {
        "id": "Z_AKVirqp1vy",
        "outputId": "f4a6a2a4-94bd-400b-cd2a-ec26d264748c",
        "execution": {
          "iopub.status.busy": "2023-11-08T06:29:15.658139Z",
          "iopub.execute_input": "2023-11-08T06:29:15.658561Z",
          "iopub.status.idle": "2023-11-08T06:29:15.665296Z",
          "shell.execute_reply.started": "2023-11-08T06:29:15.658511Z",
          "shell.execute_reply": "2023-11-08T06:29:15.664512Z"
        },
        "trusted": true,
        "colab": {
          "base_uri": "https://localhost:8080/"
        }
      },
      "execution_count": 82,
      "outputs": [
        {
          "output_type": "execute_result",
          "data": {
            "text/plain": [
              "(552,)"
            ]
          },
          "metadata": {},
          "execution_count": 82
        }
      ]
    },
    {
      "cell_type": "code",
      "source": [
        "to_be_dropped = used_car_data.loc[ambigous_index]"
      ],
      "metadata": {
        "id": "LyVuh_FW0Bqc",
        "execution": {
          "iopub.status.busy": "2023-11-08T06:29:19.098724Z",
          "iopub.execute_input": "2023-11-08T06:29:19.099122Z",
          "iopub.status.idle": "2023-11-08T06:29:19.107925Z",
          "shell.execute_reply.started": "2023-11-08T06:29:19.099090Z",
          "shell.execute_reply": "2023-11-08T06:29:19.106572Z"
        },
        "trusted": true
      },
      "execution_count": 83,
      "outputs": []
    },
    {
      "cell_type": "code",
      "source": [
        "used_car_data = used_car_data[~used_car_data['addref'].isin(to_be_dropped['addref'])]"
      ],
      "metadata": {
        "id": "ox3GWTWI1QBt",
        "execution": {
          "iopub.status.busy": "2023-11-08T06:29:22.233661Z",
          "iopub.execute_input": "2023-11-08T06:29:22.234717Z",
          "iopub.status.idle": "2023-11-08T06:29:22.255166Z",
          "shell.execute_reply.started": "2023-11-08T06:29:22.234675Z",
          "shell.execute_reply": "2023-11-08T06:29:22.253850Z"
        },
        "trusted": true
      },
      "execution_count": 84,
      "outputs": []
    },
    {
      "cell_type": "code",
      "source": [
        "used_car_data = used_car_data.drop(columns=['addref', 'city', 'year', 'body'])\n",
        "used_car_data.head()"
      ],
      "metadata": {
        "id": "CGes49Gwrl0d",
        "outputId": "0e5b543d-4b7e-4aa2-f14f-d59fd613eb4e",
        "execution": {
          "iopub.status.busy": "2023-11-08T06:29:25.205659Z",
          "iopub.execute_input": "2023-11-08T06:29:25.206062Z",
          "iopub.status.idle": "2023-11-08T06:29:25.234366Z",
          "shell.execute_reply.started": "2023-11-08T06:29:25.206026Z",
          "shell.execute_reply": "2023-11-08T06:29:25.232994Z"
        },
        "trusted": true,
        "colab": {
          "base_uri": "https://localhost:8080/",
          "height": 206
        }
      },
      "execution_count": 85,
      "outputs": [
        {
          "output_type": "execute_result",
          "data": {
            "text/plain": [
              "  assembly    make    model  engine transmission    fuel   color registered  \\\n",
              "0    Local  Toyota  Corolla  1300.0       Manual  Petrol  Silver     Lahore   \n",
              "1    Local   Honda     City  1300.0       Manual  Petrol    Blue     Lahore   \n",
              "2    Local  Toyota    Yaris  1300.0       Manual  Petrol   White     Punjab   \n",
              "3    Local  Suzuki    Swift  1300.0       Manual  Petrol    Grey  Islamabad   \n",
              "4    Local   Honda    Civic  1800.0    Automatic  Petrol    Grey     Lahore   \n",
              "\n",
              "   mileage      price  \n",
              "0   145000  2870000.0  \n",
              "1   230000   995000.0  \n",
              "2    60500  3585000.0  \n",
              "3    87000  2250000.0  \n",
              "4    86000  4850000.0  "
            ],
            "text/html": [
              "\n",
              "  <div id=\"df-351451ef-6309-4107-ac66-d146f6e1134b\" class=\"colab-df-container\">\n",
              "    <div>\n",
              "<style scoped>\n",
              "    .dataframe tbody tr th:only-of-type {\n",
              "        vertical-align: middle;\n",
              "    }\n",
              "\n",
              "    .dataframe tbody tr th {\n",
              "        vertical-align: top;\n",
              "    }\n",
              "\n",
              "    .dataframe thead th {\n",
              "        text-align: right;\n",
              "    }\n",
              "</style>\n",
              "<table border=\"1\" class=\"dataframe\">\n",
              "  <thead>\n",
              "    <tr style=\"text-align: right;\">\n",
              "      <th></th>\n",
              "      <th>assembly</th>\n",
              "      <th>make</th>\n",
              "      <th>model</th>\n",
              "      <th>engine</th>\n",
              "      <th>transmission</th>\n",
              "      <th>fuel</th>\n",
              "      <th>color</th>\n",
              "      <th>registered</th>\n",
              "      <th>mileage</th>\n",
              "      <th>price</th>\n",
              "    </tr>\n",
              "  </thead>\n",
              "  <tbody>\n",
              "    <tr>\n",
              "      <th>0</th>\n",
              "      <td>Local</td>\n",
              "      <td>Toyota</td>\n",
              "      <td>Corolla</td>\n",
              "      <td>1300.0</td>\n",
              "      <td>Manual</td>\n",
              "      <td>Petrol</td>\n",
              "      <td>Silver</td>\n",
              "      <td>Lahore</td>\n",
              "      <td>145000</td>\n",
              "      <td>2870000.0</td>\n",
              "    </tr>\n",
              "    <tr>\n",
              "      <th>1</th>\n",
              "      <td>Local</td>\n",
              "      <td>Honda</td>\n",
              "      <td>City</td>\n",
              "      <td>1300.0</td>\n",
              "      <td>Manual</td>\n",
              "      <td>Petrol</td>\n",
              "      <td>Blue</td>\n",
              "      <td>Lahore</td>\n",
              "      <td>230000</td>\n",
              "      <td>995000.0</td>\n",
              "    </tr>\n",
              "    <tr>\n",
              "      <th>2</th>\n",
              "      <td>Local</td>\n",
              "      <td>Toyota</td>\n",
              "      <td>Yaris</td>\n",
              "      <td>1300.0</td>\n",
              "      <td>Manual</td>\n",
              "      <td>Petrol</td>\n",
              "      <td>White</td>\n",
              "      <td>Punjab</td>\n",
              "      <td>60500</td>\n",
              "      <td>3585000.0</td>\n",
              "    </tr>\n",
              "    <tr>\n",
              "      <th>3</th>\n",
              "      <td>Local</td>\n",
              "      <td>Suzuki</td>\n",
              "      <td>Swift</td>\n",
              "      <td>1300.0</td>\n",
              "      <td>Manual</td>\n",
              "      <td>Petrol</td>\n",
              "      <td>Grey</td>\n",
              "      <td>Islamabad</td>\n",
              "      <td>87000</td>\n",
              "      <td>2250000.0</td>\n",
              "    </tr>\n",
              "    <tr>\n",
              "      <th>4</th>\n",
              "      <td>Local</td>\n",
              "      <td>Honda</td>\n",
              "      <td>Civic</td>\n",
              "      <td>1800.0</td>\n",
              "      <td>Automatic</td>\n",
              "      <td>Petrol</td>\n",
              "      <td>Grey</td>\n",
              "      <td>Lahore</td>\n",
              "      <td>86000</td>\n",
              "      <td>4850000.0</td>\n",
              "    </tr>\n",
              "  </tbody>\n",
              "</table>\n",
              "</div>\n",
              "    <div class=\"colab-df-buttons\">\n",
              "\n",
              "  <div class=\"colab-df-container\">\n",
              "    <button class=\"colab-df-convert\" onclick=\"convertToInteractive('df-351451ef-6309-4107-ac66-d146f6e1134b')\"\n",
              "            title=\"Convert this dataframe to an interactive table.\"\n",
              "            style=\"display:none;\">\n",
              "\n",
              "  <svg xmlns=\"http://www.w3.org/2000/svg\" height=\"24px\" viewBox=\"0 -960 960 960\">\n",
              "    <path d=\"M120-120v-720h720v720H120Zm60-500h600v-160H180v160Zm220 220h160v-160H400v160Zm0 220h160v-160H400v160ZM180-400h160v-160H180v160Zm440 0h160v-160H620v160ZM180-180h160v-160H180v160Zm440 0h160v-160H620v160Z\"/>\n",
              "  </svg>\n",
              "    </button>\n",
              "\n",
              "  <style>\n",
              "    .colab-df-container {\n",
              "      display:flex;\n",
              "      gap: 12px;\n",
              "    }\n",
              "\n",
              "    .colab-df-convert {\n",
              "      background-color: #E8F0FE;\n",
              "      border: none;\n",
              "      border-radius: 50%;\n",
              "      cursor: pointer;\n",
              "      display: none;\n",
              "      fill: #1967D2;\n",
              "      height: 32px;\n",
              "      padding: 0 0 0 0;\n",
              "      width: 32px;\n",
              "    }\n",
              "\n",
              "    .colab-df-convert:hover {\n",
              "      background-color: #E2EBFA;\n",
              "      box-shadow: 0px 1px 2px rgba(60, 64, 67, 0.3), 0px 1px 3px 1px rgba(60, 64, 67, 0.15);\n",
              "      fill: #174EA6;\n",
              "    }\n",
              "\n",
              "    .colab-df-buttons div {\n",
              "      margin-bottom: 4px;\n",
              "    }\n",
              "\n",
              "    [theme=dark] .colab-df-convert {\n",
              "      background-color: #3B4455;\n",
              "      fill: #D2E3FC;\n",
              "    }\n",
              "\n",
              "    [theme=dark] .colab-df-convert:hover {\n",
              "      background-color: #434B5C;\n",
              "      box-shadow: 0px 1px 3px 1px rgba(0, 0, 0, 0.15);\n",
              "      filter: drop-shadow(0px 1px 2px rgba(0, 0, 0, 0.3));\n",
              "      fill: #FFFFFF;\n",
              "    }\n",
              "  </style>\n",
              "\n",
              "    <script>\n",
              "      const buttonEl =\n",
              "        document.querySelector('#df-351451ef-6309-4107-ac66-d146f6e1134b button.colab-df-convert');\n",
              "      buttonEl.style.display =\n",
              "        google.colab.kernel.accessAllowed ? 'block' : 'none';\n",
              "\n",
              "      async function convertToInteractive(key) {\n",
              "        const element = document.querySelector('#df-351451ef-6309-4107-ac66-d146f6e1134b');\n",
              "        const dataTable =\n",
              "          await google.colab.kernel.invokeFunction('convertToInteractive',\n",
              "                                                    [key], {});\n",
              "        if (!dataTable) return;\n",
              "\n",
              "        const docLinkHtml = 'Like what you see? Visit the ' +\n",
              "          '<a target=\"_blank\" href=https://colab.research.google.com/notebooks/data_table.ipynb>data table notebook</a>'\n",
              "          + ' to learn more about interactive tables.';\n",
              "        element.innerHTML = '';\n",
              "        dataTable['output_type'] = 'display_data';\n",
              "        await google.colab.output.renderOutput(dataTable, element);\n",
              "        const docLink = document.createElement('div');\n",
              "        docLink.innerHTML = docLinkHtml;\n",
              "        element.appendChild(docLink);\n",
              "      }\n",
              "    </script>\n",
              "  </div>\n",
              "\n",
              "\n",
              "<div id=\"df-c51d65f0-926c-4892-8aca-9a0ae283a2aa\">\n",
              "  <button class=\"colab-df-quickchart\" onclick=\"quickchart('df-c51d65f0-926c-4892-8aca-9a0ae283a2aa')\"\n",
              "            title=\"Suggest charts\"\n",
              "            style=\"display:none;\">\n",
              "\n",
              "<svg xmlns=\"http://www.w3.org/2000/svg\" height=\"24px\"viewBox=\"0 0 24 24\"\n",
              "     width=\"24px\">\n",
              "    <g>\n",
              "        <path d=\"M19 3H5c-1.1 0-2 .9-2 2v14c0 1.1.9 2 2 2h14c1.1 0 2-.9 2-2V5c0-1.1-.9-2-2-2zM9 17H7v-7h2v7zm4 0h-2V7h2v10zm4 0h-2v-4h2v4z\"/>\n",
              "    </g>\n",
              "</svg>\n",
              "  </button>\n",
              "\n",
              "<style>\n",
              "  .colab-df-quickchart {\n",
              "      --bg-color: #E8F0FE;\n",
              "      --fill-color: #1967D2;\n",
              "      --hover-bg-color: #E2EBFA;\n",
              "      --hover-fill-color: #174EA6;\n",
              "      --disabled-fill-color: #AAA;\n",
              "      --disabled-bg-color: #DDD;\n",
              "  }\n",
              "\n",
              "  [theme=dark] .colab-df-quickchart {\n",
              "      --bg-color: #3B4455;\n",
              "      --fill-color: #D2E3FC;\n",
              "      --hover-bg-color: #434B5C;\n",
              "      --hover-fill-color: #FFFFFF;\n",
              "      --disabled-bg-color: #3B4455;\n",
              "      --disabled-fill-color: #666;\n",
              "  }\n",
              "\n",
              "  .colab-df-quickchart {\n",
              "    background-color: var(--bg-color);\n",
              "    border: none;\n",
              "    border-radius: 50%;\n",
              "    cursor: pointer;\n",
              "    display: none;\n",
              "    fill: var(--fill-color);\n",
              "    height: 32px;\n",
              "    padding: 0;\n",
              "    width: 32px;\n",
              "  }\n",
              "\n",
              "  .colab-df-quickchart:hover {\n",
              "    background-color: var(--hover-bg-color);\n",
              "    box-shadow: 0 1px 2px rgba(60, 64, 67, 0.3), 0 1px 3px 1px rgba(60, 64, 67, 0.15);\n",
              "    fill: var(--button-hover-fill-color);\n",
              "  }\n",
              "\n",
              "  .colab-df-quickchart-complete:disabled,\n",
              "  .colab-df-quickchart-complete:disabled:hover {\n",
              "    background-color: var(--disabled-bg-color);\n",
              "    fill: var(--disabled-fill-color);\n",
              "    box-shadow: none;\n",
              "  }\n",
              "\n",
              "  .colab-df-spinner {\n",
              "    border: 2px solid var(--fill-color);\n",
              "    border-color: transparent;\n",
              "    border-bottom-color: var(--fill-color);\n",
              "    animation:\n",
              "      spin 1s steps(1) infinite;\n",
              "  }\n",
              "\n",
              "  @keyframes spin {\n",
              "    0% {\n",
              "      border-color: transparent;\n",
              "      border-bottom-color: var(--fill-color);\n",
              "      border-left-color: var(--fill-color);\n",
              "    }\n",
              "    20% {\n",
              "      border-color: transparent;\n",
              "      border-left-color: var(--fill-color);\n",
              "      border-top-color: var(--fill-color);\n",
              "    }\n",
              "    30% {\n",
              "      border-color: transparent;\n",
              "      border-left-color: var(--fill-color);\n",
              "      border-top-color: var(--fill-color);\n",
              "      border-right-color: var(--fill-color);\n",
              "    }\n",
              "    40% {\n",
              "      border-color: transparent;\n",
              "      border-right-color: var(--fill-color);\n",
              "      border-top-color: var(--fill-color);\n",
              "    }\n",
              "    60% {\n",
              "      border-color: transparent;\n",
              "      border-right-color: var(--fill-color);\n",
              "    }\n",
              "    80% {\n",
              "      border-color: transparent;\n",
              "      border-right-color: var(--fill-color);\n",
              "      border-bottom-color: var(--fill-color);\n",
              "    }\n",
              "    90% {\n",
              "      border-color: transparent;\n",
              "      border-bottom-color: var(--fill-color);\n",
              "    }\n",
              "  }\n",
              "</style>\n",
              "\n",
              "  <script>\n",
              "    async function quickchart(key) {\n",
              "      const quickchartButtonEl =\n",
              "        document.querySelector('#' + key + ' button');\n",
              "      quickchartButtonEl.disabled = true;  // To prevent multiple clicks.\n",
              "      quickchartButtonEl.classList.add('colab-df-spinner');\n",
              "      try {\n",
              "        const charts = await google.colab.kernel.invokeFunction(\n",
              "            'suggestCharts', [key], {});\n",
              "      } catch (error) {\n",
              "        console.error('Error during call to suggestCharts:', error);\n",
              "      }\n",
              "      quickchartButtonEl.classList.remove('colab-df-spinner');\n",
              "      quickchartButtonEl.classList.add('colab-df-quickchart-complete');\n",
              "    }\n",
              "    (() => {\n",
              "      let quickchartButtonEl =\n",
              "        document.querySelector('#df-c51d65f0-926c-4892-8aca-9a0ae283a2aa button');\n",
              "      quickchartButtonEl.style.display =\n",
              "        google.colab.kernel.accessAllowed ? 'block' : 'none';\n",
              "    })();\n",
              "  </script>\n",
              "</div>\n",
              "    </div>\n",
              "  </div>\n"
            ]
          },
          "metadata": {},
          "execution_count": 85
        }
      ]
    },
    {
      "cell_type": "code",
      "source": [
        "used_car_data.shape"
      ],
      "metadata": {
        "id": "dqD9ef0ex-4H",
        "outputId": "bfe872e4-c260-4184-e4e5-b3144c9ca828",
        "execution": {
          "iopub.status.busy": "2023-11-08T06:29:29.129012Z",
          "iopub.execute_input": "2023-11-08T06:29:29.129467Z",
          "iopub.status.idle": "2023-11-08T06:29:29.136802Z",
          "shell.execute_reply.started": "2023-11-08T06:29:29.129431Z",
          "shell.execute_reply": "2023-11-08T06:29:29.135654Z"
        },
        "trusted": true,
        "colab": {
          "base_uri": "https://localhost:8080/"
        }
      },
      "execution_count": 86,
      "outputs": [
        {
          "output_type": "execute_result",
          "data": {
            "text/plain": [
              "(68210, 10)"
            ]
          },
          "metadata": {},
          "execution_count": 86
        }
      ]
    },
    {
      "cell_type": "markdown",
      "source": [
        "## Importing python packages for ML"
      ],
      "metadata": {
        "id": "G38c0JL8didl"
      }
    },
    {
      "cell_type": "code",
      "source": [
        "from sklearn.ensemble import RandomForestRegressor\n",
        "from sklearn.model_selection import train_test_split\n",
        "from sklearn.metrics import mean_squared_error, r2_score\n",
        "from sklearn.preprocessing import LabelEncoder, StandardScaler\n",
        "from sklearn.model_selection import GridSearchCV\n",
        "from sklearn.pipeline import Pipeline\n",
        "from math import sqrt"
      ],
      "metadata": {
        "id": "I3_AaTLWwgEV",
        "execution": {
          "iopub.status.busy": "2023-11-08T06:29:50.812872Z",
          "iopub.execute_input": "2023-11-08T06:29:50.813755Z",
          "iopub.status.idle": "2023-11-08T06:29:51.480764Z",
          "shell.execute_reply.started": "2023-11-08T06:29:50.813718Z",
          "shell.execute_reply": "2023-11-08T06:29:51.479834Z"
        },
        "trusted": true
      },
      "execution_count": 87,
      "outputs": []
    },
    {
      "cell_type": "markdown",
      "source": [
        "### Label encoding of categorical variables"
      ],
      "metadata": {
        "id": "pS93caVb8xyq"
      }
    },
    {
      "cell_type": "code",
      "source": [
        "label_mappings = {}\n",
        "categorical_columns = ['assembly', 'make', 'model', 'transmission', 'fuel', 'color', 'registered']\n",
        "for col in categorical_columns:\n",
        "    label_encoder = LabelEncoder()\n",
        "    used_car_data[col] = label_encoder.fit_transform(used_car_data[col])\n",
        "    # Store the mapping in the dictionary\n",
        "    label_mappings[col] = dict(zip(label_encoder.classes_, label_encoder.transform(label_encoder.classes_)))\n",
        "\n",
        "print(label_mappings)"
      ],
      "metadata": {
        "colab": {
          "base_uri": "https://localhost:8080/"
        },
        "id": "eI1rzMw00vcS",
        "outputId": "40ac0f9c-69fe-4812-8ff5-fd20a34f11ca"
      },
      "execution_count": 88,
      "outputs": [
        {
          "output_type": "stream",
          "name": "stdout",
          "text": [
            "{'assembly': {'Imported': 0, 'Local': 1}, 'make': {'Adam': 0, 'Audi': 1, 'BAIC': 2, 'BMW': 3, 'Bentley': 4, 'Buick': 5, 'Changan': 6, 'Chery': 7, 'Chevrolet': 8, 'DFSK': 9, 'Daehan': 10, 'Daewoo': 11, 'Daihatsu': 12, 'Dodge': 13, 'FAW': 14, 'Fiat': 15, 'Ford': 16, 'GMC': 17, 'Haval': 18, 'Honda': 19, 'Hummer': 20, 'Hyundai': 21, 'Isuzu': 22, 'JAC': 23, 'JW': 24, 'Jeep': 25, 'KIA': 26, 'Land': 27, 'Lexus': 28, 'MG': 29, 'MINI': 30, 'Mazda': 31, 'Mercedes': 32, 'Mitsubishi': 33, 'Mushtaq': 34, 'Nissan': 35, 'Peugeot': 36, 'Porsche': 37, 'Prince': 38, 'Proton': 39, 'Range': 40, 'Sogo': 41, 'SsangYong': 42, 'Subaru': 43, 'Suzuki': 44, 'Toyota': 45, 'United': 46, 'Volkswagen': 47, 'Volvo': 48, 'ZOTYE': 49}, 'model': {'2': 0, '2008': 1, '3': 2, '370Z': 3, '5': 4, '7': 5, 'A3': 6, 'A4': 7, 'A5': 8, 'A6': 9, 'A7': 10, 'A8': 11, 'A800': 12, 'AD': 13, 'APV': 14, 'Accord': 15, 'Acty': 16, 'Airwave': 17, 'Allion': 18, 'Alpha': 19, 'Alphard': 20, 'Alsvin': 21, 'Altezza': 22, 'Alto': 23, 'Amarok': 24, 'Aqua': 25, 'Atrai': 26, 'Avanza': 27, 'Avensis': 28, 'Aveo': 29, 'Aygo': 30, 'BJ40': 31, 'BR-V': 32, 'Baleno': 33, 'Beat': 34, 'Beetle': 35, 'Belta': 36, 'Benz': 37, 'Bluebird': 38, 'Bolan': 39, 'Boon': 40, 'Bravo': 41, 'Brio': 42, 'C-HR': 43, 'CR-V': 44, 'CR-Z': 45, 'CT200h': 46, 'Cami': 47, 'Camry': 48, 'Cappuccino': 49, 'Caravan': 50, 'Carol': 51, 'Carrier': 52, 'Carry': 53, 'Cast': 54, 'Cayenne': 55, 'Celerio': 56, 'Celica': 57, 'Cerato': 58, 'Cervo': 59, 'Challenger': 60, 'Charade': 61, 'Chaser': 62, 'Cherokee': 63, 'Ciaz': 64, 'Cielo': 65, 'City': 66, 'Civic': 67, 'Classic': 68, 'Clipper': 69, 'Coaster': 70, 'Colorado': 71, 'Continental': 72, 'Coo': 73, 'Cooper': 74, 'Copen': 75, 'Corolla': 76, 'Corona': 77, 'Cressida': 78, 'Cross': 79, 'Crown': 80, 'Cultus': 81, 'Cuore': 82, 'Cx3': 83, 'Cx7': 84, 'D-Max': 85, 'Dayz': 86, 'Duet': 87, 'EK': 88, 'Ek': 89, 'Elantra': 90, 'Esquire': 91, 'Esse': 92, 'Estima': 93, 'Every': 94, 'Excel': 95, 'Exclusive': 96, 'F': 97, 'FX': 98, 'Fit': 99, 'Fj': 100, 'Flair': 101, 'Forland': 102, 'Fortuner': 103, 'Freed': 104, 'Frontier': 105, 'Galant': 106, 'Gen': 107, 'Gilgit': 108, 'Gladiator': 109, 'Glory': 110, 'Grace': 111, 'Grand': 112, 'H-100': 113, 'H2': 114, 'H6': 115, 'HR-V': 116, 'HS': 117, 'Harrier': 118, 'Hiace': 119, 'Hijet': 120, 'Hilux': 121, 'Hustler': 122, 'I': 123, 'ISIS': 124, 'IST': 125, 'Ignis': 126, 'Impreza': 127, 'Insight': 128, 'Inspire': 129, 'Ioniq': 130, 'Jade': 131, 'Jimny': 132, 'Jolion': 133, 'Joy': 134, 'Juke': 135, 'K07': 136, 'KY10': 137, 'Kaghan': 138, 'Karvaan': 139, 'Kei': 140, 'Khyber': 141, 'Kicks': 142, 'Kix': 143, 'Kizashi': 144, 'Kona': 145, 'L200': 146, 'L300': 147, 'LX': 148, 'Lancer': 149, 'Land': 150, 'Liana': 151, 'Life': 152, 'Lucida': 153, 'M8': 154, 'M9': 155, 'MR': 156, 'MR2': 157, 'MX': 158, 'March': 159, 'Margalla': 160, 'Mark': 161, 'Mega': 162, 'Mehran': 163, 'Minica': 164, 'Mira': 165, 'Mirage': 166, 'Moco': 167, 'Move': 168, 'N': 169, 'Navara': 170, 'Niro': 171, 'Noah': 172, 'Note': 173, 'Nx': 174, 'Optra': 175, 'Oshan': 176, 'Otti': 177, 'Pajero': 178, 'Palette': 179, 'Panamera': 180, 'Passo': 181, 'Patrol': 182, 'Pearl': 183, 'Picanto': 184, 'Pickup': 185, 'Pino': 186, 'Pixis': 187, 'Platz': 188, 'Pleo': 189, 'Porte': 190, 'Potohar': 191, 'Prado': 192, 'Premio': 193, 'Pride': 194, 'Primera': 195, 'Prius': 196, 'Probox': 197, 'Q2': 198, 'Q3': 199, 'Q7': 200, 'QQ': 201, 'R1': 202, 'R2': 203, 'RX': 204, 'RX8': 205, 'Racer': 206, 'Ractis': 207, 'Raize': 208, 'Raum': 209, 'Rav4': 210, 'Ravi': 211, 'Revo': 212, 'Roadmaster': 213, 'Rocky': 214, 'Roomy': 215, 'Roox': 216, 'Rover': 217, 'Rush': 218, 'Rvr': 219, 'S': 220, 'S660': 221, 'Saga': 222, 'Sambar': 223, 'Santa': 224, 'Santro': 225, 'Serena': 226, 'Shahbaz': 227, 'Shehzore': 228, 'Sienta': 229, 'Sierra': 230, 'Silverado': 231, 'Sirius': 232, 'Skyline': 233, 'Sonata': 234, 'Sonica': 235, 'Sorento': 236, 'Spacia': 237, 'Spectra': 238, 'Spike': 239, 'Sportage': 240, 'Staria': 241, 'Stavic': 242, 'Stella': 243, 'Stonic': 244, 'Storia': 245, 'Stream': 246, 'Succeed': 247, 'Sunny': 248, 'Surf': 249, 'Swift': 250, 'TT': 251, 'Tacoma': 252, 'Taft': 253, 'Tank': 254, 'Tanto': 255, 'Terios': 256, 'Terracan': 257, 'Thats': 258, 'Thor': 259, 'Tiggo': 260, 'Tiida': 261, 'Titan': 262, 'Toppo': 263, 'Town': 264, 'Trooper': 265, 'Tucson': 266, 'Tundra': 267, 'Uno': 268, 'Up': 269, 'V2': 270, 'V40': 271, 'Vamos': 272, 'Vezel': 273, 'Vitara': 274, 'Vitz': 275, 'Voxy': 276, 'Wagon': 277, 'Wake': 278, 'Wingroad': 279, 'Wish': 280, 'Wrangler': 281, 'X': 282, 'X-PV': 283, 'X1': 284, 'X2': 285, 'X200': 286, 'X3': 287, 'X5': 288, 'X7': 289, 'X70': 290, 'Xbee': 291, 'Yaris': 292, 'Z100': 293, 'ZS': 294, 'Zest': 295, 'iQ': 296}, 'transmission': {'Automatic': 0, 'Manual': 1}, 'fuel': {'Diesel': 0, 'Hybrid': 1, 'Petrol': 2}, 'color': {'Attitude metallic': 0, 'Beige': 1, 'Black': 2, 'Blue': 3, 'Bronze': 4, 'Brown': 5, 'Burgundy': 6, 'Cherry pearl crystal': 7, 'Chiffon ivory metallic': 8, 'Crystal pearl': 9, 'Dark emerald mica': 10, 'Dark teal mica': 11, 'Ebony': 12, 'Ebony twilight metallic': 13, 'Glass metallic': 14, 'Gold': 15, 'Graphite': 16, 'Graphite pearl': 17, 'Green': 18, 'Grey': 19, 'Indigo': 20, 'Innocent pink pearl': 21, 'Light rose metallic': 22, 'Light rose mica metallic': 23, 'Magenta': 24, 'Magnesium metallic': 25, 'Maroon': 26, 'Moco peach': 27, 'Modern steel metallic': 28, 'Navy': 29, 'Obsidian': 30, 'Orange': 31, 'Panthera metal': 32, 'Pink': 33, 'Polished metal metallic': 34, 'Purple': 35, 'Red': 36, 'Rich espresso': 37, 'Sand khaki pearl': 38, 'Silver': 39, 'Titanium': 40, 'Turquoise': 41, 'Unlisted': 42, 'White': 43, 'Wine': 44}, 'registered': {'Abbottabad': 0, 'Abdul Hakeem': 1, 'Ahmed Pur East': 2, 'Attock': 3, 'Badin': 4, 'Bahawalnagar': 5, 'Bahawalpur': 6, 'Balakot': 7, 'Bannu': 8, 'Basirpur': 9, 'Batang': 10, 'Bhakkar': 11, 'Chakwal': 12, 'Chiniot': 13, 'Chishtian': 14, 'D.G.Khan': 15, 'Daska': 16, 'Dera ismail khan': 17, 'Dir': 18, 'Faisalabad': 19, 'Farooqabad': 20, 'Fateh Jang': 21, 'Gharo': 22, 'Ghazi': 23, 'Gilgit': 24, 'Gujar Khan': 25, 'Gujranwala': 26, 'Gujrat': 27, 'Hafizabad': 28, 'Hangu': 29, 'Haripur': 30, 'Haroonabad': 31, 'Hattar': 32, 'Hazro': 33, 'Hyderabad': 34, 'Iskandarabad': 35, 'Islamabad': 36, 'Jacobabad': 37, 'Jandanwala': 38, 'Jatoi': 39, 'Jhang': 40, 'Jhelum': 41, 'Kamoke': 42, 'Karachi': 43, 'Karak': 44, 'Kashmir': 45, 'Kasur': 46, 'Khanewal': 47, 'Kharian': 48, 'Khushab': 49, 'Kohat': 50, 'Kotla': 51, 'Kotli Ak': 52, 'Lahore': 53, 'Lakki marwat': 54, 'Larkana': 55, 'Layyah': 56, 'Mandi bahauddin': 57, 'Mansehra': 58, 'Mardan': 59, 'Mian Channu': 60, 'Mian Wali': 61, 'Mingora': 62, 'Mirpur A.K.': 63, 'Mirpur khas': 64, 'Multan': 65, 'Muzaffar Gargh': 66, 'Muzaffarabad': 67, 'Narowal': 68, 'Nawabshah': 69, 'Nowshera': 70, 'Okara': 71, 'Pattoki': 72, 'Peshawar': 73, 'Phalia': 74, 'Pindi gheb': 75, 'Pir mahal': 76, 'Punjab': 77, 'Quetta': 78, 'Rahim Yar Khan': 79, 'Rawalakot': 80, 'Rawalpindi': 81, 'Sadiqabad': 82, 'Sahiwal': 83, 'Sajawal': 84, 'Sara-E-Alamgir': 85, 'Sargodha': 86, 'Sheikhupura': 87, 'Shorkot': 88, 'Sialkot': 89, 'Sindh': 90, 'Skardu': 91, 'Sukkur': 92, 'Swabi': 93, 'Swat': 94, 'Tando Allah Yar': 95, 'Thatta': 96, 'Toba Tek Singh': 97, 'Un-Registered': 98, 'Vehari': 99, 'Wah cantt': 100, 'Wazirabad': 101, 'Zafarwal': 102}}\n"
          ]
        }
      ]
    },
    {
      "cell_type": "code",
      "source": [
        "decoded_make = label_mappings['make']['Honda']\n",
        "print(\"Decoded 'make' value:\", decoded_make)"
      ],
      "metadata": {
        "colab": {
          "base_uri": "https://localhost:8080/"
        },
        "id": "7w2BMVyP09kf",
        "outputId": "c91114f6-907a-4580-a1a3-2ff12a7fecb3"
      },
      "execution_count": 89,
      "outputs": [
        {
          "output_type": "stream",
          "name": "stdout",
          "text": [
            "Decoded 'make' value: 19\n"
          ]
        }
      ]
    },
    {
      "cell_type": "code",
      "source": [
        "encoded_make = 19\n",
        "decoded_make = next((key for key, value in label_mappings['make'].items() if value == encoded_make), \"Unknown\")\n",
        "print(\"Decoded 'make' value:\", decoded_make)"
      ],
      "metadata": {
        "colab": {
          "base_uri": "https://localhost:8080/"
        },
        "id": "Z_ZQ7iBa-X2f",
        "outputId": "4ec2e37c-ab70-49b5-b2d2-ed9eb833c686"
      },
      "execution_count": 98,
      "outputs": [
        {
          "output_type": "stream",
          "name": "stdout",
          "text": [
            "Decoded 'make' value: Honda\n"
          ]
        }
      ]
    },
    {
      "cell_type": "code",
      "source": [
        "used_car_data.sample(4)"
      ],
      "metadata": {
        "id": "ql2G_qc39850",
        "outputId": "41e8520b-e4f2-42a0-ea2b-c620415e389b",
        "execution": {
          "iopub.status.busy": "2023-11-08T06:30:17.161982Z",
          "iopub.execute_input": "2023-11-08T06:30:17.162963Z",
          "iopub.status.idle": "2023-11-08T06:30:17.184607Z",
          "shell.execute_reply.started": "2023-11-08T06:30:17.162915Z",
          "shell.execute_reply": "2023-11-08T06:30:17.183468Z"
        },
        "trusted": true,
        "colab": {
          "base_uri": "https://localhost:8080/",
          "height": 175
        }
      },
      "execution_count": 91,
      "outputs": [
        {
          "output_type": "execute_result",
          "data": {
            "text/plain": [
              "       assembly  make  model  engine  transmission  fuel  color  registered  \\\n",
              "62741         0    45     76  1500.0             0     2     43          36   \n",
              "65465         1    44    163   796.0             1     2     19          36   \n",
              "5619          1    44     23   660.0             1     2     39          90   \n",
              "4696          1    45     76  1300.0             1     2     43          90   \n",
              "\n",
              "       mileage      price  \n",
              "62741   143000  2900000.0  \n",
              "65465   100000   900000.0  \n",
              "5619     28300  2200000.0  \n",
              "4696     79000  3450000.0  "
            ],
            "text/html": [
              "\n",
              "  <div id=\"df-b4c64330-9f80-41e0-a8c7-a548dfa63278\" class=\"colab-df-container\">\n",
              "    <div>\n",
              "<style scoped>\n",
              "    .dataframe tbody tr th:only-of-type {\n",
              "        vertical-align: middle;\n",
              "    }\n",
              "\n",
              "    .dataframe tbody tr th {\n",
              "        vertical-align: top;\n",
              "    }\n",
              "\n",
              "    .dataframe thead th {\n",
              "        text-align: right;\n",
              "    }\n",
              "</style>\n",
              "<table border=\"1\" class=\"dataframe\">\n",
              "  <thead>\n",
              "    <tr style=\"text-align: right;\">\n",
              "      <th></th>\n",
              "      <th>assembly</th>\n",
              "      <th>make</th>\n",
              "      <th>model</th>\n",
              "      <th>engine</th>\n",
              "      <th>transmission</th>\n",
              "      <th>fuel</th>\n",
              "      <th>color</th>\n",
              "      <th>registered</th>\n",
              "      <th>mileage</th>\n",
              "      <th>price</th>\n",
              "    </tr>\n",
              "  </thead>\n",
              "  <tbody>\n",
              "    <tr>\n",
              "      <th>62741</th>\n",
              "      <td>0</td>\n",
              "      <td>45</td>\n",
              "      <td>76</td>\n",
              "      <td>1500.0</td>\n",
              "      <td>0</td>\n",
              "      <td>2</td>\n",
              "      <td>43</td>\n",
              "      <td>36</td>\n",
              "      <td>143000</td>\n",
              "      <td>2900000.0</td>\n",
              "    </tr>\n",
              "    <tr>\n",
              "      <th>65465</th>\n",
              "      <td>1</td>\n",
              "      <td>44</td>\n",
              "      <td>163</td>\n",
              "      <td>796.0</td>\n",
              "      <td>1</td>\n",
              "      <td>2</td>\n",
              "      <td>19</td>\n",
              "      <td>36</td>\n",
              "      <td>100000</td>\n",
              "      <td>900000.0</td>\n",
              "    </tr>\n",
              "    <tr>\n",
              "      <th>5619</th>\n",
              "      <td>1</td>\n",
              "      <td>44</td>\n",
              "      <td>23</td>\n",
              "      <td>660.0</td>\n",
              "      <td>1</td>\n",
              "      <td>2</td>\n",
              "      <td>39</td>\n",
              "      <td>90</td>\n",
              "      <td>28300</td>\n",
              "      <td>2200000.0</td>\n",
              "    </tr>\n",
              "    <tr>\n",
              "      <th>4696</th>\n",
              "      <td>1</td>\n",
              "      <td>45</td>\n",
              "      <td>76</td>\n",
              "      <td>1300.0</td>\n",
              "      <td>1</td>\n",
              "      <td>2</td>\n",
              "      <td>43</td>\n",
              "      <td>90</td>\n",
              "      <td>79000</td>\n",
              "      <td>3450000.0</td>\n",
              "    </tr>\n",
              "  </tbody>\n",
              "</table>\n",
              "</div>\n",
              "    <div class=\"colab-df-buttons\">\n",
              "\n",
              "  <div class=\"colab-df-container\">\n",
              "    <button class=\"colab-df-convert\" onclick=\"convertToInteractive('df-b4c64330-9f80-41e0-a8c7-a548dfa63278')\"\n",
              "            title=\"Convert this dataframe to an interactive table.\"\n",
              "            style=\"display:none;\">\n",
              "\n",
              "  <svg xmlns=\"http://www.w3.org/2000/svg\" height=\"24px\" viewBox=\"0 -960 960 960\">\n",
              "    <path d=\"M120-120v-720h720v720H120Zm60-500h600v-160H180v160Zm220 220h160v-160H400v160Zm0 220h160v-160H400v160ZM180-400h160v-160H180v160Zm440 0h160v-160H620v160ZM180-180h160v-160H180v160Zm440 0h160v-160H620v160Z\"/>\n",
              "  </svg>\n",
              "    </button>\n",
              "\n",
              "  <style>\n",
              "    .colab-df-container {\n",
              "      display:flex;\n",
              "      gap: 12px;\n",
              "    }\n",
              "\n",
              "    .colab-df-convert {\n",
              "      background-color: #E8F0FE;\n",
              "      border: none;\n",
              "      border-radius: 50%;\n",
              "      cursor: pointer;\n",
              "      display: none;\n",
              "      fill: #1967D2;\n",
              "      height: 32px;\n",
              "      padding: 0 0 0 0;\n",
              "      width: 32px;\n",
              "    }\n",
              "\n",
              "    .colab-df-convert:hover {\n",
              "      background-color: #E2EBFA;\n",
              "      box-shadow: 0px 1px 2px rgba(60, 64, 67, 0.3), 0px 1px 3px 1px rgba(60, 64, 67, 0.15);\n",
              "      fill: #174EA6;\n",
              "    }\n",
              "\n",
              "    .colab-df-buttons div {\n",
              "      margin-bottom: 4px;\n",
              "    }\n",
              "\n",
              "    [theme=dark] .colab-df-convert {\n",
              "      background-color: #3B4455;\n",
              "      fill: #D2E3FC;\n",
              "    }\n",
              "\n",
              "    [theme=dark] .colab-df-convert:hover {\n",
              "      background-color: #434B5C;\n",
              "      box-shadow: 0px 1px 3px 1px rgba(0, 0, 0, 0.15);\n",
              "      filter: drop-shadow(0px 1px 2px rgba(0, 0, 0, 0.3));\n",
              "      fill: #FFFFFF;\n",
              "    }\n",
              "  </style>\n",
              "\n",
              "    <script>\n",
              "      const buttonEl =\n",
              "        document.querySelector('#df-b4c64330-9f80-41e0-a8c7-a548dfa63278 button.colab-df-convert');\n",
              "      buttonEl.style.display =\n",
              "        google.colab.kernel.accessAllowed ? 'block' : 'none';\n",
              "\n",
              "      async function convertToInteractive(key) {\n",
              "        const element = document.querySelector('#df-b4c64330-9f80-41e0-a8c7-a548dfa63278');\n",
              "        const dataTable =\n",
              "          await google.colab.kernel.invokeFunction('convertToInteractive',\n",
              "                                                    [key], {});\n",
              "        if (!dataTable) return;\n",
              "\n",
              "        const docLinkHtml = 'Like what you see? Visit the ' +\n",
              "          '<a target=\"_blank\" href=https://colab.research.google.com/notebooks/data_table.ipynb>data table notebook</a>'\n",
              "          + ' to learn more about interactive tables.';\n",
              "        element.innerHTML = '';\n",
              "        dataTable['output_type'] = 'display_data';\n",
              "        await google.colab.output.renderOutput(dataTable, element);\n",
              "        const docLink = document.createElement('div');\n",
              "        docLink.innerHTML = docLinkHtml;\n",
              "        element.appendChild(docLink);\n",
              "      }\n",
              "    </script>\n",
              "  </div>\n",
              "\n",
              "\n",
              "<div id=\"df-e98a2728-bcb9-4b10-b1da-1726ee7acd56\">\n",
              "  <button class=\"colab-df-quickchart\" onclick=\"quickchart('df-e98a2728-bcb9-4b10-b1da-1726ee7acd56')\"\n",
              "            title=\"Suggest charts\"\n",
              "            style=\"display:none;\">\n",
              "\n",
              "<svg xmlns=\"http://www.w3.org/2000/svg\" height=\"24px\"viewBox=\"0 0 24 24\"\n",
              "     width=\"24px\">\n",
              "    <g>\n",
              "        <path d=\"M19 3H5c-1.1 0-2 .9-2 2v14c0 1.1.9 2 2 2h14c1.1 0 2-.9 2-2V5c0-1.1-.9-2-2-2zM9 17H7v-7h2v7zm4 0h-2V7h2v10zm4 0h-2v-4h2v4z\"/>\n",
              "    </g>\n",
              "</svg>\n",
              "  </button>\n",
              "\n",
              "<style>\n",
              "  .colab-df-quickchart {\n",
              "      --bg-color: #E8F0FE;\n",
              "      --fill-color: #1967D2;\n",
              "      --hover-bg-color: #E2EBFA;\n",
              "      --hover-fill-color: #174EA6;\n",
              "      --disabled-fill-color: #AAA;\n",
              "      --disabled-bg-color: #DDD;\n",
              "  }\n",
              "\n",
              "  [theme=dark] .colab-df-quickchart {\n",
              "      --bg-color: #3B4455;\n",
              "      --fill-color: #D2E3FC;\n",
              "      --hover-bg-color: #434B5C;\n",
              "      --hover-fill-color: #FFFFFF;\n",
              "      --disabled-bg-color: #3B4455;\n",
              "      --disabled-fill-color: #666;\n",
              "  }\n",
              "\n",
              "  .colab-df-quickchart {\n",
              "    background-color: var(--bg-color);\n",
              "    border: none;\n",
              "    border-radius: 50%;\n",
              "    cursor: pointer;\n",
              "    display: none;\n",
              "    fill: var(--fill-color);\n",
              "    height: 32px;\n",
              "    padding: 0;\n",
              "    width: 32px;\n",
              "  }\n",
              "\n",
              "  .colab-df-quickchart:hover {\n",
              "    background-color: var(--hover-bg-color);\n",
              "    box-shadow: 0 1px 2px rgba(60, 64, 67, 0.3), 0 1px 3px 1px rgba(60, 64, 67, 0.15);\n",
              "    fill: var(--button-hover-fill-color);\n",
              "  }\n",
              "\n",
              "  .colab-df-quickchart-complete:disabled,\n",
              "  .colab-df-quickchart-complete:disabled:hover {\n",
              "    background-color: var(--disabled-bg-color);\n",
              "    fill: var(--disabled-fill-color);\n",
              "    box-shadow: none;\n",
              "  }\n",
              "\n",
              "  .colab-df-spinner {\n",
              "    border: 2px solid var(--fill-color);\n",
              "    border-color: transparent;\n",
              "    border-bottom-color: var(--fill-color);\n",
              "    animation:\n",
              "      spin 1s steps(1) infinite;\n",
              "  }\n",
              "\n",
              "  @keyframes spin {\n",
              "    0% {\n",
              "      border-color: transparent;\n",
              "      border-bottom-color: var(--fill-color);\n",
              "      border-left-color: var(--fill-color);\n",
              "    }\n",
              "    20% {\n",
              "      border-color: transparent;\n",
              "      border-left-color: var(--fill-color);\n",
              "      border-top-color: var(--fill-color);\n",
              "    }\n",
              "    30% {\n",
              "      border-color: transparent;\n",
              "      border-left-color: var(--fill-color);\n",
              "      border-top-color: var(--fill-color);\n",
              "      border-right-color: var(--fill-color);\n",
              "    }\n",
              "    40% {\n",
              "      border-color: transparent;\n",
              "      border-right-color: var(--fill-color);\n",
              "      border-top-color: var(--fill-color);\n",
              "    }\n",
              "    60% {\n",
              "      border-color: transparent;\n",
              "      border-right-color: var(--fill-color);\n",
              "    }\n",
              "    80% {\n",
              "      border-color: transparent;\n",
              "      border-right-color: var(--fill-color);\n",
              "      border-bottom-color: var(--fill-color);\n",
              "    }\n",
              "    90% {\n",
              "      border-color: transparent;\n",
              "      border-bottom-color: var(--fill-color);\n",
              "    }\n",
              "  }\n",
              "</style>\n",
              "\n",
              "  <script>\n",
              "    async function quickchart(key) {\n",
              "      const quickchartButtonEl =\n",
              "        document.querySelector('#' + key + ' button');\n",
              "      quickchartButtonEl.disabled = true;  // To prevent multiple clicks.\n",
              "      quickchartButtonEl.classList.add('colab-df-spinner');\n",
              "      try {\n",
              "        const charts = await google.colab.kernel.invokeFunction(\n",
              "            'suggestCharts', [key], {});\n",
              "      } catch (error) {\n",
              "        console.error('Error during call to suggestCharts:', error);\n",
              "      }\n",
              "      quickchartButtonEl.classList.remove('colab-df-spinner');\n",
              "      quickchartButtonEl.classList.add('colab-df-quickchart-complete');\n",
              "    }\n",
              "    (() => {\n",
              "      let quickchartButtonEl =\n",
              "        document.querySelector('#df-e98a2728-bcb9-4b10-b1da-1726ee7acd56 button');\n",
              "      quickchartButtonEl.style.display =\n",
              "        google.colab.kernel.accessAllowed ? 'block' : 'none';\n",
              "    })();\n",
              "  </script>\n",
              "</div>\n",
              "    </div>\n",
              "  </div>\n"
            ]
          },
          "metadata": {},
          "execution_count": 91
        }
      ]
    },
    {
      "cell_type": "markdown",
      "source": [
        "## Train Test Split"
      ],
      "metadata": {
        "id": "kXUv4O12aG8E"
      }
    },
    {
      "cell_type": "code",
      "source": [
        "X = used_car_data.drop(columns=['price'])\n",
        "y = used_car_data['price']\n",
        "X_train, X_test, y_train, y_test = train_test_split(X, y, test_size=0.3, random_state=42) #ratio of 70Tr/30T"
      ],
      "metadata": {
        "id": "nNshV5uMaKgA",
        "execution": {
          "iopub.status.busy": "2023-11-08T06:30:24.563004Z",
          "iopub.execute_input": "2023-11-08T06:30:24.563781Z",
          "iopub.status.idle": "2023-11-08T06:30:24.588196Z",
          "shell.execute_reply.started": "2023-11-08T06:30:24.563736Z",
          "shell.execute_reply": "2023-11-08T06:30:24.587242Z"
        },
        "trusted": true
      },
      "execution_count": 92,
      "outputs": []
    },
    {
      "cell_type": "markdown",
      "source": [
        "## Random forest"
      ],
      "metadata": {
        "id": "uMSPDYeH42Tr"
      }
    },
    {
      "cell_type": "markdown",
      "source": [
        "### n_estimators = 35 gives the best r2_score (Hyper parameter tunning)\n",
        "\n",
        "---\n",
        "\n"
      ],
      "metadata": {
        "id": "OQbXO7RWhfBX"
      }
    },
    {
      "cell_type": "code",
      "source": [
        "random_forest_model = RandomForestRegressor(n_estimators=35, max_depth=15, min_samples_leaf=1, min_samples_split=4, random_state=42)\n",
        "random_forest_model.fit(X_train, y_train)\n",
        "y_pred = random_forest_model.predict(X_test)\n",
        "mse_rf = mean_squared_error(y_test, y_pred)\n",
        "r2_rf = r2_score(y_test, y_pred)\n",
        "print(\"Random Forest Metrics:\")\n",
        "print(\"Mean Squared Error:\", mse_rf)\n",
        "print(\"R-squared:\", round(r2_rf*100, 2))"
      ],
      "metadata": {
        "id": "931XYa9JhSQE",
        "execution": {
          "iopub.status.busy": "2023-11-08T06:36:15.336178Z",
          "iopub.execute_input": "2023-11-08T06:36:15.337184Z",
          "iopub.status.idle": "2023-11-08T06:36:18.659087Z",
          "shell.execute_reply.started": "2023-11-08T06:36:15.337139Z",
          "shell.execute_reply": "2023-11-08T06:36:18.658155Z"
        },
        "trusted": true,
        "colab": {
          "base_uri": "https://localhost:8080/"
        },
        "outputId": "67c395e9-145f-4044-a107-cbd11d921c28"
      },
      "execution_count": 93,
      "outputs": [
        {
          "output_type": "stream",
          "name": "stdout",
          "text": [
            "Random Forest Metrics:\n",
            "Mean Squared Error: 3249150313412.395\n",
            "R-squared: 86.29\n"
          ]
        }
      ]
    },
    {
      "cell_type": "code",
      "source": [
        "X_test.shape"
      ],
      "metadata": {
        "colab": {
          "base_uri": "https://localhost:8080/"
        },
        "id": "pbMt4XnTv9B2",
        "outputId": "5e6c68d9-4765-4dc7-9eac-65f0f56a4de7"
      },
      "execution_count": 94,
      "outputs": [
        {
          "output_type": "execute_result",
          "data": {
            "text/plain": [
              "(20463, 9)"
            ]
          },
          "metadata": {},
          "execution_count": 94
        }
      ]
    },
    {
      "cell_type": "code",
      "source": [
        "your_input = np.array([[1,45,76,1798,0,2,43,36,83000]])\n",
        "your_predictions = random_forest_model.predict(your_input)\n",
        "print(\"Your Predictions: RS\", int(your_predictions),\"/-\")"
      ],
      "metadata": {
        "colab": {
          "base_uri": "https://localhost:8080/"
        },
        "id": "QZFuqetPyY50",
        "outputId": "7c3c2500-2d5e-454a-e100-4068deb59aca"
      },
      "execution_count": 95,
      "outputs": [
        {
          "output_type": "stream",
          "name": "stdout",
          "text": [
            "Your Predictions: RS 5044661 /-\n"
          ]
        },
        {
          "output_type": "stream",
          "name": "stderr",
          "text": [
            "/usr/local/lib/python3.10/dist-packages/sklearn/base.py:439: UserWarning: X does not have valid feature names, but RandomForestRegressor was fitted with feature names\n",
            "  warnings.warn(\n"
          ]
        }
      ]
    },
    {
      "cell_type": "code",
      "source": [
        "feature_importances = random_forest_model.feature_importances_ #Map out the important features of a dataset\n",
        "plt.figure(figsize=(13.5,5))\n",
        "sns.barplot(x=X.columns, y=(feature_importances*100))\n",
        "plt.xlabel(\"Features\", fontdict={'fontsize':18})\n",
        "plt.ylabel(\"importance in %\", fontdict={'fontsize':18})\n",
        "plt.title(\"Feature Importance\", fontdict={'fontsize':24, 'weight':'bold'})\n",
        "plt.show()"
      ],
      "metadata": {
        "execution": {
          "iopub.status.busy": "2023-11-08T06:36:25.397889Z",
          "iopub.execute_input": "2023-11-08T06:36:25.398291Z",
          "iopub.status.idle": "2023-11-08T06:36:25.760517Z",
          "shell.execute_reply.started": "2023-11-08T06:36:25.398259Z",
          "shell.execute_reply": "2023-11-08T06:36:25.759266Z"
        },
        "trusted": true,
        "colab": {
          "base_uri": "https://localhost:8080/",
          "height": 509
        },
        "id": "TD0CdGZzDqkh",
        "outputId": "93b59ba5-2425-4d92-baa0-a9fc7018f0a0"
      },
      "execution_count": 96,
      "outputs": [
        {
          "output_type": "display_data",
          "data": {
            "text/plain": [
              "<Figure size 1350x500 with 1 Axes>"
            ],
            "image/png": "[encoded data removed]"
          },
          "metadata": {}
        }
      ]
    },
    {
      "cell_type": "code",
      "source": [
        "import pickle\n",
        "\n",
        "with open('PPM_by_rforestr.pkl', 'wb') as file:\n",
        "    pickle.dump(random_forest_model, file)"
      ],
      "metadata": {
        "execution": {
          "iopub.status.busy": "2023-11-08T06:43:21.808794Z",
          "iopub.execute_input": "2023-11-08T06:43:21.809633Z",
          "iopub.status.idle": "2023-11-08T06:43:21.845514Z",
          "shell.execute_reply.started": "2023-11-08T06:43:21.809589Z",
          "shell.execute_reply": "2023-11-08T06:43:21.844340Z"
        },
        "trusted": true,
        "id": "OZcbbxLPDqki"
      },
      "execution_count": 97,
      "outputs": []
    }
  ]
}